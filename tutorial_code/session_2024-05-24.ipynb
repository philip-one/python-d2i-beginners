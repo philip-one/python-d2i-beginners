{
 "cells": [
  {
   "cell_type": "code",
   "execution_count": 3,
   "metadata": {},
   "outputs": [
    {
     "name": "stdout",
     "output_type": "stream",
     "text": [
      "['asparagus', 'broccoli', 'brown onions']\n",
      "['asparagus', 'broccoli', 'brown onions', 'radishes']\n",
      "['asparagus', 'broccoli', 'brown onions', 'radishes', 'cherries', 'strawberries', 'kiwis']\n",
      "['asparagus', 'brown onions', 'radishes', 'cherries', 'strawberries', 'kiwis']\n"
     ]
    }
   ],
   "source": [
    "# In this cell, make a list of a few foods and print it.\n",
    "# Then append the list with another food and print it.\n",
    "# Next, make another list of foods, and use the extend method to \n",
    "# add those extra foods as individual elements of the list, and print it.\n",
    "# Finally, remove and element from the list and print the final list.\n",
    "# Remember to always use a suitable name for your lists!\n",
    "\n",
    "foods = [\"asparagus\", \"broccoli\", \"brown onions\"]\n",
    "print(foods)\n",
    "foods.append(\"radishes\")\n",
    "print(foods)\n",
    "\n",
    "fruits =[\"cherries\", \"strawberries\", \"kiwis\"]\n",
    "foods.extend(fruits)\n",
    "print(foods)\n",
    "\n",
    "foods.remove(\"broccoli\")\n",
    "print(foods)\n"
   ]
  }
 ],
 "metadata": {
  "kernelspec": {
   "display_name": "Python 3",
   "language": "python",
   "name": "python3"
  },
  "language_info": {
   "codemirror_mode": {
    "name": "ipython",
    "version": 3
   },
   "file_extension": ".py",
   "mimetype": "text/x-python",
   "name": "python",
   "nbconvert_exporter": "python",
   "pygments_lexer": "ipython3",
   "version": "3.10.13"
  }
 },
 "nbformat": 4,
 "nbformat_minor": 2
}
