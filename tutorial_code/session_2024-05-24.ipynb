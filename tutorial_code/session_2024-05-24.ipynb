{
 "cells": [
  {
   "cell_type": "code",
   "execution_count": 3,
   "metadata": {},
   "outputs": [
    {
     "name": "stdout",
     "output_type": "stream",
     "text": [
      "['asparagus', 'broccoli', 'brown onions']\n",
      "['asparagus', 'broccoli', 'brown onions', 'radishes']\n",
      "['asparagus', 'broccoli', 'brown onions', 'radishes', 'cherries', 'strawberries', 'kiwis']\n",
      "['asparagus', 'brown onions', 'radishes', 'cherries', 'strawberries', 'kiwis']\n"
     ]
    }
   ],
   "source": [
    "# In this cell, make a list of a few foods and print it.\n",
    "# Then append the list with another food and print it.\n",
    "# Next, make another list of foods, and use the extend method to \n",
    "# add those extra foods as individual elements of the list, and print it.\n",
    "# Finally, remove and element from the list and print the final list.\n",
    "# Remember to always use a suitable name for your lists!\n",
    "\n",
    "foods = [\"asparagus\", \"broccoli\", \"brown onions\"]\n",
    "print(foods)\n",
    "foods.append(\"radishes\")\n",
    "print(foods)\n",
    "\n",
    "fruits =[\"cherries\", \"strawberries\", \"kiwis\"]\n",
    "foods.extend(fruits)\n",
    "print(foods)\n",
    "\n",
    "foods.remove(\"broccoli\")\n",
    "print(foods)\n"
   ]
  },
  {
   "cell_type": "code",
   "execution_count": 6,
   "metadata": {},
   "outputs": [
    {
     "name": "stdout",
     "output_type": "stream",
     "text": [
      "{'a': 1}\n",
      "{'a': 1, 'b': 2}\n"
     ]
    }
   ],
   "source": [
    "it = {\"a\":1}\n",
    "print(it)\n",
    "\n",
    "label = \"b\"\n",
    "at = {\"a\": 1, label: 2}\n",
    "print(at)"
   ]
  },
  {
   "cell_type": "code",
   "execution_count": 10,
   "metadata": {},
   "outputs": [
    {
     "name": "stdout",
     "output_type": "stream",
     "text": [
      "{'Name': 'Will', 'Age': 30, 'Pets': '1', 'Food': ['asparagus', 'brown onions', 'radishes', 'cherries', 'strawberries', 'kiwis'], 'Sport': 'Running', 'Colours': ['Red', 'Green', 'Blue']}\n",
      "Running\n",
      "['asparagus', 'brown onions', 'radishes', 'cherries', 'strawberries', 'kiwis']\n",
      "{'Name': 'Philip', 'Age': '50', 'Pets': 0, 'Food': ['cherries', 'strawberries', 'kiwis'], 'Sport': 'No thank you', 'Colour': '#402050'}\n",
      "Philip #402050\n",
      "dict_keys(['Name', 'Age', 'Pets', 'Food', 'Sport', 'Colour'])\n"
     ]
    }
   ],
   "source": [
    "# dict_1 = {key:value , key:value}\n",
    "will = {\"Name\":\"Will\", \n",
    "        \"Age\":30, \n",
    "        \"Pets\":\"1\", \n",
    "        \"Food\":foods,\n",
    "        \"Sport\":\"Running\",\n",
    "        \"Colours\":[\"Red\", \"Green\", \"Blue\"]}\n",
    "print(will)\n",
    "\n",
    "print(will[\"Sport\"])\n",
    "print(will[\"Food\"])\n",
    "\n",
    "# Make a similar dictionary for yourself with keys such as name, food etc, print out some keys\n",
    "\n",
    "phil = {\n",
    "    \"Name\": \"Philip\",\n",
    "    \"Age\" : \"50\",\n",
    "    \"Pets\": 0,\n",
    "    \"Food\": fruits,\n",
    "    \"Sport\": \"No thank you\",\n",
    "    \"Colour\": \"#402050\"\n",
    "}\n",
    "\n",
    "print(phil)\n",
    "\n",
    "print(phil[\"Name\"], phil[\"Colour\"])\n",
    "\n",
    "print(phil.keys())"
   ]
  },
  {
   "cell_type": "code",
   "execution_count": 11,
   "metadata": {},
   "outputs": [
    {
     "name": "stdout",
     "output_type": "stream",
     "text": [
      "{'Will': 'Pythonista', 'Phil': {'Main': 'Senior Analyst', 'Other': 'Research Officer'}, 'Amy': 'CEO'}\n",
      "dict_keys(['Will', 'Phil', 'Amy'])\n",
      "dict_values(['Pythonista', {'Main': 'Senior Analyst', 'Other': 'Research Officer'}, 'CEO'])\n",
      "dict_items([('Will', 'Pythonista'), ('Phil', {'Main': 'Senior Analyst', 'Other': 'Research Officer'}), ('Amy', 'CEO')])\n",
      "{'Will': 'Pythonista', 'Phil': {'Main': 'Senior Analyst', 'Other': 'Research Officer'}, 'Amy': 'CEO', 'Kathy': 'Executioner'}\n",
      "{'Will': 'Pythonista', 'Phil': {'Main': 'Senior Analyst', 'Other': 'Research Officer'}, 'Amy': 'CEO', 'Kathy': 'Senior Death Provider'}\n"
     ]
    }
   ],
   "source": [
    "# MAke a dict of names and job titles, have about 3 entries\n",
    "# Make sure one person has multiple jobs using a dict as their value\n",
    "# print the .keys, .values(), and .items()\n",
    "# add an entry using the name[] syntax\n",
    "# overwrite an entry using the same syntax\n",
    "\n",
    "jobs = {\n",
    "    \"Will\": \"Pythonista\",\n",
    "    \"Phil\": {\n",
    "        \"Main\": \"Senior Analyst\",\n",
    "        \"Other\": \"Research Officer\"\n",
    "    },\n",
    "    \"Amy\": \"CEO\"\n",
    "}\n",
    "\n",
    "print(jobs)\n",
    "print(jobs.keys())\n",
    "print(jobs.values())\n",
    "print(jobs.items())\n",
    "\n",
    "jobs['Kathy'] = \"Executioner\"\n",
    "print(jobs)\n",
    "jobs[\"Kathy\"] = \"Senior Death Provider\"\n",
    "print(jobs)"
   ]
  }
 ],
 "metadata": {
  "kernelspec": {
   "display_name": "Python 3",
   "language": "python",
   "name": "python3"
  },
  "language_info": {
   "codemirror_mode": {
    "name": "ipython",
    "version": 3
   },
   "file_extension": ".py",
   "mimetype": "text/x-python",
   "name": "python",
   "nbconvert_exporter": "python",
   "pygments_lexer": "ipython3",
   "version": "3.10.13"
  }
 },
 "nbformat": 4,
 "nbformat_minor": 2
}
